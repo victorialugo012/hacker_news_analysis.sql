{
  "nbformat": 4,
  "nbformat_minor": 0,
  "metadata": {
    "colab": {
      "provenance": [],
      "include_colab_link": true
    },
    "kernelspec": {
      "name": "python3",
      "display_name": "Python 3"
    },
    "language_info": {
      "name": "python"
    }
  },
  "cells": [
    {
      "cell_type": "markdown",
      "metadata": {
        "id": "view-in-github",
        "colab_type": "text"
      },
      "source": [
        "<a href=\"https://colab.research.google.com/github/victorialugo012/hacker_news_analysis.sql/blob/main/_Victoria_Lugo.ipynb\" target=\"_parent\"><img src=\"https://colab.research.google.com/assets/colab-badge.svg\" alt=\"Open In Colab\"/></a>"
      ]
    },
    {
      "cell_type": "markdown",
      "source": [
        "# **Python Basics**\n",
        "Let's start by learning how to work with Python **variables**, **data types**, and **basic operations**.\n",
        "\n",
        "## **Variables and Data Types**\n",
        "- In Python, a **variable** is a container for storing data values.\n",
        "- Python supports several **data types**, including:\n",
        "  - **Integers**\n",
        "  - **Floats**\n",
        "  - **Strings**\n",
        "  - **Lists**\n"
      ],
      "metadata": {
        "id": "0x-_-FRhhkyP"
      }
    },
    {
      "cell_type": "code",
      "source": [
        "name = 'victoria'\n",
        "print(name)"
      ],
      "metadata": {
        "id": "SCvBfnudg8Pa",
        "colab": {
          "base_uri": "https://localhost:8080/"
        },
        "outputId": "9eec4c68-9835-48c3-8478-1c1c7fd339a2"
      },
      "execution_count": 51,
      "outputs": [
        {
          "output_type": "stream",
          "name": "stdout",
          "text": [
            "victoria\n"
          ]
        }
      ]
    },
    {
      "cell_type": "markdown",
      "source": [],
      "metadata": {
        "id": "wFqFXA9njzvc"
      }
    },
    {
      "cell_type": "markdown",
      "source": [
        "## **Basic Operations**\n",
        "- Python allows you to perform **arithmetic operations** on numbers and **concatenate strings**."
      ],
      "metadata": {
        "id": "ghIRkkUAh3fR"
      }
    },
    {
      "cell_type": "code",
      "source": [
        "#arithmetic\n",
        "print(5+1)\n",
        "print(1+2)"
      ],
      "metadata": {
        "id": "C4BiXT46g8M2",
        "colab": {
          "base_uri": "https://localhost:8080/"
        },
        "outputId": "059811db-3c63-462c-b215-20d296824f0d"
      },
      "execution_count": 1,
      "outputs": [
        {
          "output_type": "stream",
          "name": "stdout",
          "text": [
            "6\n",
            "3\n"
          ]
        }
      ]
    },
    {
      "cell_type": "code",
      "source": [
        "#concatenate\n",
        "print('Hello'+' '+'Victoria')"
      ],
      "metadata": {
        "id": "QQ97SiRig8KS",
        "colab": {
          "base_uri": "https://localhost:8080/"
        },
        "outputId": "eef8ce65-3f60-49e8-8edc-23f1d23e3861"
      },
      "execution_count": 3,
      "outputs": [
        {
          "output_type": "stream",
          "name": "stdout",
          "text": [
            "Hello Victoria\n"
          ]
        }
      ]
    },
    {
      "cell_type": "markdown",
      "source": [
        "## **Conditional Statements**\n",
        "- **Conditional statements** (if-else) let you execute different blocks of code based on a condition."
      ],
      "metadata": {
        "id": "suEL15N6iJZz"
      }
    },
    {
      "cell_type": "code",
      "source": [
        "age = 18\n",
        "if age >= 18:\n",
        "  print('You are an adult')\n",
        "else:\n",
        "    print('You are not an adult')"
      ],
      "metadata": {
        "id": "1yDL9qbwg8Hl",
        "colab": {
          "base_uri": "https://localhost:8080/"
        },
        "outputId": "af2269a1-1501-4af4-c981-25f3ebdde234"
      },
      "execution_count": 6,
      "outputs": [
        {
          "output_type": "stream",
          "name": "stdout",
          "text": [
            "You are an adult\n"
          ]
        }
      ]
    },
    {
      "cell_type": "markdown",
      "source": [
        "## **Loops**\n",
        "- **Loops** are used to repeat a block of code multiple times."
      ],
      "metadata": {
        "id": "y3r8smGOiUOF"
      }
    },
    {
      "cell_type": "code",
      "source": [
        "for i in range(5):\n",
        "  print(i)"
      ],
      "metadata": {
        "id": "awgN8OVqg8Ep",
        "colab": {
          "base_uri": "https://localhost:8080/"
        },
        "outputId": "52a30cf2-79fa-40cf-e4e0-0a5c155aa35c"
      },
      "execution_count": 7,
      "outputs": [
        {
          "output_type": "stream",
          "name": "stdout",
          "text": [
            "0\n",
            "1\n",
            "2\n",
            "3\n",
            "4\n"
          ]
        }
      ]
    },
    {
      "cell_type": "markdown",
      "source": [
        "### **Working with Data**\n",
        "Python provides powerful tools to work with data. Let's start by exploring **lists** and **dictionaries**.\n",
        "\n",
        "### **Lists**\n",
        "- **Lists** are used to store multiple items in a single variable.\n"
      ],
      "metadata": {
        "id": "aiGfD5e1ijFT"
      }
    },
    {
      "cell_type": "code",
      "source": [
        "fruits = ['apple', 'pear' , 'kiwi']\n",
        "for fruit in fruits:\n",
        "  print(fruit)"
      ],
      "metadata": {
        "id": "ChjXn-mdiqRz",
        "colab": {
          "base_uri": "https://localhost:8080/"
        },
        "outputId": "32842754-5b1f-4337-e1cf-cab9ecfbef34"
      },
      "execution_count": 12,
      "outputs": [
        {
          "output_type": "stream",
          "name": "stdout",
          "text": [
            "apple\n",
            "pear\n",
            "kiwi\n"
          ]
        }
      ]
    },
    {
      "cell_type": "markdown",
      "source": [
        "### **Dictionaries**\n",
        "- **Dictionaries** store data in **key-value pairs**, making it easy to organize related information."
      ],
      "metadata": {
        "id": "_LoCmFUNi5Nh"
      }
    },
    {
      "cell_type": "code",
      "source": [
        "fruits = {'apple': 'red',\n",
        "          'kiwi': 'green',\n",
        "          'pear': 'yellow'\n",
        "}\n",
        "print(fruits['apple'])"
      ],
      "metadata": {
        "id": "jb5NTRbji9BZ",
        "colab": {
          "base_uri": "https://localhost:8080/"
        },
        "outputId": "26bffcb4-3417-4842-82ab-ed0995305ae4"
      },
      "execution_count": 13,
      "outputs": [
        {
          "output_type": "stream",
          "name": "stdout",
          "text": [
            "red\n"
          ]
        }
      ]
    },
    {
      "cell_type": "markdown",
      "source": [
        "# **Data Understanding & Management for Business Intelligence**"
      ],
      "metadata": {
        "id": "aDZwZ-BP-I05"
      }
    },
    {
      "cell_type": "markdown",
      "source": [
        "### **Importance of Data:**\n",
        "Data is the foundation of Business Intelligence (BI), analytics, and data science. It's like the raw material needed to build insights and knowledge. Just as a chef needs ingredients to create a dish, BI requires data to generate insights.\n",
        "\n",
        "- **Decision-Making:** Data enables informed decisions, like analyzing sales data to identify best-selling products and focus marketing efforts.\n",
        "\n",
        "- **Trend Analysis:** Historical data analysis can reveal trends, helping predict future demands, as seen in seasonal sales patterns.\n",
        "\n",
        "- **Customer Insights:** Collecting customer feedback and behavior data helps tailor products and services, enhancing customer satisfaction and loyalty.\n",
        "\n",
        "- **Operational Efficiency:** Data analysis can streamline operations, such as optimizing supply chain logistics based on real-time inventory data.\n",
        "\n",
        "- **Risk Management:** Analyzing financial and operational data helps identify and mitigate risks, like fraud detection through unusual transaction patterns.\n"
      ],
      "metadata": {
        "id": "LIPo4Mro-YHL"
      }
    },
    {
      "cell_type": "markdown",
      "source": [
        "### **Characteristics of Data:**\n",
        "\n",
        "- **Size:** Data's scale impacts storage and processing. Small datasets might fit in a single spreadsheet, whereas Big Data, like internet traffic logs, requires robust databases and computing power.\n",
        "\n",
        "- **Structure:** Structured data, such as a customer database, follows a clear format. Unstructured data, like customer reviews, lacks a predefined format and needs more complex processing.\n",
        "\n",
        "- **Flow:** Data can be continuous, like sensor outputs in a smart factory, or batched, such as monthly sales reports, affecting how and when data is analyzed.\n"
      ],
      "metadata": {
        "id": "Psm5MFKG_AMt"
      }
    },
    {
      "cell_type": "markdown",
      "source": [
        "### **Making Data Analytics-Ready:**\n",
        "\n",
        "- **Relevance and Quality:** Data must be relevant to the specific problem and of high quality.\n",
        "\n",
        "- **Structure:** It should be organized in a way that's ready for analysis, with key fields and normalized values.\n",
        "\n",
        "- **Common Definitions:** Terms and variables should have agreed-upon definitions across the organization (Master Data Management).\n",
        "    - Date formats varying between MM/DD/YYYY and DD/MM/YYYY.\n",
        "    - Using both abbreviations and full names for states, like \"CA\" and \"California.\"\n"
      ],
      "metadata": {
        "id": "8xq0Jptm_Lzy"
      }
    },
    {
      "cell_type": "markdown",
      "source": [
        "### **Analytics Readiness Metrics:**\n",
        "\n",
        "- **Reliability:** Ensuring data comes from credible sources and is stored securely, like using authenticated APIs for data collection.\n",
        "\n",
        "- **Accuracy:** Verifying data matches real-world values, such as ensuring sales figures align with transaction records.\n",
        "\n",
        "- **Accessibility:** Making data easily available to authorized users through user-friendly platforms or databases.\n",
        "\n",
        "- **Security and Privacy:** Implementing measures like encryption and access controls to protect data from breaches.\n",
        "\n",
        "- **Richness:** Gathering comprehensive data sets that cover all aspects needed for analysis, like customer demographics, behaviors, and transaction histories.\n",
        "\n",
        "- **Consistency:** Standardizing data collection and integration methods to ensure uniformity across all data sources.\n",
        "\n"
      ],
      "metadata": {
        "id": "XGH4f_ZGAtxN"
      }
    },
    {
      "cell_type": "markdown",
      "source": [
        "### **Understanding Data Taxonomy for Analytics**\n",
        "\n",
        "**Structured Data:** This includes data organized in a fixed format, making it easily searchable, such as in databases. It is further divided into:\n",
        "\n",
        "- **Categorical Data:** Data that represents categories or groups. It includes:\n",
        "  - **Nominal Data:** Data without a natural order, like colors or marital status.\n",
        "    - *Nominal Data Example:* Consider a Python list holding colors: **`colors = [\"Red\", \"Blue\", \"Green\"]`**. This list represents nominal data as there's no inherent order among these colors.\n",
        "  - **Ordinal Data:** Data with a natural order but no fixed spacing, like education levels or customer satisfaction ratings.\n",
        "    - *Ordinal Data Example:* An education level list: **`education_levels = [\"High School\", \"Bachelor's\", \"Master's\", \"Ph.D.\"]`** shows ordinal data. The list has a natural order from least to most advanced education level, but the spacing between each level isn't defined.\n",
        "\n",
        "- **Numeric Data:** Data represented by numbers. It includes:\n",
        "  - **Interval Data:** Numerical data without a true zero point, such as temperature.\n",
        "    - *Interval Data Example:* Temperature readings in Celsius: **`temperatures = [20, 22, 25, 28]`**. These temperatures are interval data as they are numerical with equal spacing but lack a true zero point (where 0 does not mean 'no temperature').\n",
        "  - **Ratio Data:** Numerical data with a true zero point, allowing for comparisons of magnitudes, like height or weight.\n",
        "    - *Ratio Data Example:* Weights of objects in kilograms: **`weights = [0, 0.5, 1, 1.5]`**. This list is an example of ratio data because it includes numerical values with a true zero point, indicating the absence of weight.\n",
        "\n",
        "**Unstructured Data:** Data that does not have a predefined data model, making it harder to collect, process, and analyze. Examples include text documents, images, and videos.\n",
        "\n",
        "**Semistructured Data:** A blend of structured and unstructured data, which can include elements of both, like XML or JSON files used in web data.\n",
        "\n"
      ],
      "metadata": {
        "id": "MnwXM7VkC3L_"
      }
    },
    {
      "cell_type": "markdown",
      "source": [
        "#### Summary of the **Mathematical Operations** applicable to each level of data taxonomy:\n",
        "\n",
        "| Data Type | Countable | Comparable | Addable | Subtractable | Multiplicable | Dividable |\n",
        "|-----------|-----------|------------|---------|--------------|---------------|-----------|\n",
        "| Nominal   | Yes       | No         | No      | No           | No            | No        |\n",
        "| Ordinal   | Yes       | Yes        | No      | No           | No            | No        |\n",
        "| Interval  | Yes       | Yes        | Yes     | Yes          | No            | No        |\n",
        "| Ratio     | Yes       | Yes        | Yes     | Yes          | Yes           | Yes       |\n"
      ],
      "metadata": {
        "id": "qt_8tGuCDwED"
      }
    },
    {
      "cell_type": "markdown",
      "source": [
        ">> For example, 20°C is not \"twice as warm\" as 10°C because the zero point in the Celsius scale is arbitrary, not representing an absence of temperature."
      ],
      "metadata": {
        "id": "90N3u9PrEBOJ"
      }
    },
    {
      "cell_type": "markdown",
      "source": [
        "#### Summary of the **Statistical Operations** applicable to each level of data taxonomy:\n",
        "\n",
        "| Data Type | Mode | Median | Mean | Standard Deviation | Correlation |\n",
        "|-----------|------|--------|------|--------------------|-------------|\n",
        "| Nominal   | Yes  | No     | No   | No                 | No          |\n",
        "| Ordinal   | Yes  | Yes    | No   | No                 | No          |\n",
        "| Interval  | Yes  | Yes    | Yes  | Yes                | Yes         |\n",
        "| Ratio     | Yes  | Yes    | Yes  | Yes                | Yes         |\n"
      ],
      "metadata": {
        "id": "c52yRho0ESdY"
      }
    },
    {
      "cell_type": "code",
      "source": [
        "colors = [\"Red\", \"Blue\", \"Green\"]\n",
        "print(colors)\n"
      ],
      "metadata": {
        "id": "FFhjH8301VBA",
        "colab": {
          "base_uri": "https://localhost:8080/"
        },
        "outputId": "25a15c12-f4f5-4bad-f12e-f04a9ab119ea"
      },
      "execution_count": 16,
      "outputs": [
        {
          "output_type": "stream",
          "name": "stdout",
          "text": [
            "['Red', 'Blue', 'Green']\n"
          ]
        }
      ]
    },
    {
      "cell_type": "code",
      "source": [
        "education_levels = [\"High School\", \"Bachelor's\", \"Master's\", \"Ph.D.\"]\n",
        "print(education_levels)\n"
      ],
      "metadata": {
        "id": "wNa24FNm1U-w",
        "colab": {
          "base_uri": "https://localhost:8080/"
        },
        "outputId": "26f51b7a-093b-4929-f222-1c69e2f0741e"
      },
      "execution_count": 17,
      "outputs": [
        {
          "output_type": "stream",
          "name": "stdout",
          "text": [
            "['High School', \"Bachelor's\", \"Master's\", 'Ph.D.']\n"
          ]
        }
      ]
    },
    {
      "cell_type": "code",
      "source": [
        "# Interval data (temperature, no true zero)\n",
        "temperatures = [20, 22, 25, 28]\n",
        "print(temperatures)\n",
        "\n",
        "# Ratio data (weights, true zero exists)\n",
        "weights = [0, 0.5, 1, 1.5]\n",
        "print(weights)\n"
      ],
      "metadata": {
        "id": "jC39VHwI1T_2",
        "colab": {
          "base_uri": "https://localhost:8080/"
        },
        "outputId": "dc9b7e77-9bc7-4773-929a-0711afe52739"
      },
      "execution_count": 18,
      "outputs": [
        {
          "output_type": "stream",
          "name": "stdout",
          "text": [
            "[20, 22, 25, 28]\n",
            "[0, 0.5, 1, 1.5]\n"
          ]
        }
      ]
    },
    {
      "cell_type": "markdown",
      "source": [
        "# Introduction to Pandas for Business Intelligence\n",
        "\n",
        "- Pandas is a cornerstone tool for anyone studying Business Intelligence (BI), providing powerful and easy-to-use data structures and data analysis tools for Python. Its name, derived from \"panel data\" and \"Python data analysis,\" hints at its capabilities and intended use. Here's a brief introduction to get you started:\n",
        "\n",
        "## Why Pandas?\n",
        "\n",
        "- In the realm of Business Intelligence, data is king. You're often tasked with collecting, cleaning, analyzing, and reporting data to inform strategic decisions. Pandas excel in handling and transforming data, making it an indispensable tool for BI students. It allows you to read data from various sources, manipulate it efficiently, and prepare insightful visualizations.\n",
        "\n",
        "## Key Features:\n",
        "\n",
        "### Data Structures:\n",
        "- Pandas introduce two primary data structures: Series and DataFrame. A Series is a one-dimensional array-like structure, while a DataFrame is a two-dimensional, table-like structure with rows and columns. These structures are designed to handle data in a way that is intuitive and aligned with spreadsheet-like operations, which are familiar to most BI professionals.\n",
        "\n",
        "### Data Manipulation:\n",
        "- With Pandas, you can easily filter, sort, group, and aggregate your data. Whether you're dealing with time-series data, categorical data, or missing values, Pandas provides a rich set of methods to perform data munging tasks efficiently.\n",
        "\n",
        "### Integration with Data Sources:\n",
        "- Pandas can seamlessly read and write data from and to various sources like CSV files, Excel spreadsheets, databases, and even cloud storage services. This versatility makes it a great tool for BI tasks, where data might come from disparate sources.\n",
        "\n",
        "### Data Analysis:\n",
        "- Beyond data manipulation, Pandas also supports more complex data analysis tasks. It integrates well with other libraries like NumPy for numerical operations, Matplotlib and Seaborn for data visualization, and Scikit-learn for machine learning, making it a central part of the Python data science ecosystem.\n"
      ],
      "metadata": {
        "id": "NEn3wKR-El1t"
      }
    },
    {
      "cell_type": "markdown",
      "source": [
        "**Loading the Dataset**\n",
        "\n",
        "   First, you need to have the dataset in a format that Pandas can read, such as a CSV file. Assuming the data you provided is saved in a file named `university_data.csv`, you can load it into a Pandas DataFrame.\n"
      ],
      "metadata": {
        "id": "vlGIQwRhFqsc"
      }
    },
    {
      "cell_type": "code",
      "source": [
        "import pandas as pd\n",
        "from google.colab import files\n",
        "uploaded = files.upload()  # file\n",
        "\n",
        "\n"
      ],
      "metadata": {
        "id": "yQv_li7Sf_c4",
        "colab": {
          "base_uri": "https://localhost:8080/",
          "height": 74
        },
        "outputId": "8a3965db-8692-4c7f-d4ac-65ab83e62c78"
      },
      "execution_count": 35,
      "outputs": [
        {
          "output_type": "display_data",
          "data": {
            "text/plain": [
              "<IPython.core.display.HTML object>"
            ],
            "text/html": [
              "\n",
              "     <input type=\"file\" id=\"files-903670ef-5070-4334-adbb-12ca27517903\" name=\"files[]\" multiple disabled\n",
              "        style=\"border:none\" />\n",
              "     <output id=\"result-903670ef-5070-4334-adbb-12ca27517903\">\n",
              "      Upload widget is only available when the cell has been executed in the\n",
              "      current browser session. Please rerun this cell to enable.\n",
              "      </output>\n",
              "      <script>// Copyright 2017 Google LLC\n",
              "//\n",
              "// Licensed under the Apache License, Version 2.0 (the \"License\");\n",
              "// you may not use this file except in compliance with the License.\n",
              "// You may obtain a copy of the License at\n",
              "//\n",
              "//      http://www.apache.org/licenses/LICENSE-2.0\n",
              "//\n",
              "// Unless required by applicable law or agreed to in writing, software\n",
              "// distributed under the License is distributed on an \"AS IS\" BASIS,\n",
              "// WITHOUT WARRANTIES OR CONDITIONS OF ANY KIND, either express or implied.\n",
              "// See the License for the specific language governing permissions and\n",
              "// limitations under the License.\n",
              "\n",
              "/**\n",
              " * @fileoverview Helpers for google.colab Python module.\n",
              " */\n",
              "(function(scope) {\n",
              "function span(text, styleAttributes = {}) {\n",
              "  const element = document.createElement('span');\n",
              "  element.textContent = text;\n",
              "  for (const key of Object.keys(styleAttributes)) {\n",
              "    element.style[key] = styleAttributes[key];\n",
              "  }\n",
              "  return element;\n",
              "}\n",
              "\n",
              "// Max number of bytes which will be uploaded at a time.\n",
              "const MAX_PAYLOAD_SIZE = 100 * 1024;\n",
              "\n",
              "function _uploadFiles(inputId, outputId) {\n",
              "  const steps = uploadFilesStep(inputId, outputId);\n",
              "  const outputElement = document.getElementById(outputId);\n",
              "  // Cache steps on the outputElement to make it available for the next call\n",
              "  // to uploadFilesContinue from Python.\n",
              "  outputElement.steps = steps;\n",
              "\n",
              "  return _uploadFilesContinue(outputId);\n",
              "}\n",
              "\n",
              "// This is roughly an async generator (not supported in the browser yet),\n",
              "// where there are multiple asynchronous steps and the Python side is going\n",
              "// to poll for completion of each step.\n",
              "// This uses a Promise to block the python side on completion of each step,\n",
              "// then passes the result of the previous step as the input to the next step.\n",
              "function _uploadFilesContinue(outputId) {\n",
              "  const outputElement = document.getElementById(outputId);\n",
              "  const steps = outputElement.steps;\n",
              "\n",
              "  const next = steps.next(outputElement.lastPromiseValue);\n",
              "  return Promise.resolve(next.value.promise).then((value) => {\n",
              "    // Cache the last promise value to make it available to the next\n",
              "    // step of the generator.\n",
              "    outputElement.lastPromiseValue = value;\n",
              "    return next.value.response;\n",
              "  });\n",
              "}\n",
              "\n",
              "/**\n",
              " * Generator function which is called between each async step of the upload\n",
              " * process.\n",
              " * @param {string} inputId Element ID of the input file picker element.\n",
              " * @param {string} outputId Element ID of the output display.\n",
              " * @return {!Iterable<!Object>} Iterable of next steps.\n",
              " */\n",
              "function* uploadFilesStep(inputId, outputId) {\n",
              "  const inputElement = document.getElementById(inputId);\n",
              "  inputElement.disabled = false;\n",
              "\n",
              "  const outputElement = document.getElementById(outputId);\n",
              "  outputElement.innerHTML = '';\n",
              "\n",
              "  const pickedPromise = new Promise((resolve) => {\n",
              "    inputElement.addEventListener('change', (e) => {\n",
              "      resolve(e.target.files);\n",
              "    });\n",
              "  });\n",
              "\n",
              "  const cancel = document.createElement('button');\n",
              "  inputElement.parentElement.appendChild(cancel);\n",
              "  cancel.textContent = 'Cancel upload';\n",
              "  const cancelPromise = new Promise((resolve) => {\n",
              "    cancel.onclick = () => {\n",
              "      resolve(null);\n",
              "    };\n",
              "  });\n",
              "\n",
              "  // Wait for the user to pick the files.\n",
              "  const files = yield {\n",
              "    promise: Promise.race([pickedPromise, cancelPromise]),\n",
              "    response: {\n",
              "      action: 'starting',\n",
              "    }\n",
              "  };\n",
              "\n",
              "  cancel.remove();\n",
              "\n",
              "  // Disable the input element since further picks are not allowed.\n",
              "  inputElement.disabled = true;\n",
              "\n",
              "  if (!files) {\n",
              "    return {\n",
              "      response: {\n",
              "        action: 'complete',\n",
              "      }\n",
              "    };\n",
              "  }\n",
              "\n",
              "  for (const file of files) {\n",
              "    const li = document.createElement('li');\n",
              "    li.append(span(file.name, {fontWeight: 'bold'}));\n",
              "    li.append(span(\n",
              "        `(${file.type || 'n/a'}) - ${file.size} bytes, ` +\n",
              "        `last modified: ${\n",
              "            file.lastModifiedDate ? file.lastModifiedDate.toLocaleDateString() :\n",
              "                                    'n/a'} - `));\n",
              "    const percent = span('0% done');\n",
              "    li.appendChild(percent);\n",
              "\n",
              "    outputElement.appendChild(li);\n",
              "\n",
              "    const fileDataPromise = new Promise((resolve) => {\n",
              "      const reader = new FileReader();\n",
              "      reader.onload = (e) => {\n",
              "        resolve(e.target.result);\n",
              "      };\n",
              "      reader.readAsArrayBuffer(file);\n",
              "    });\n",
              "    // Wait for the data to be ready.\n",
              "    let fileData = yield {\n",
              "      promise: fileDataPromise,\n",
              "      response: {\n",
              "        action: 'continue',\n",
              "      }\n",
              "    };\n",
              "\n",
              "    // Use a chunked sending to avoid message size limits. See b/62115660.\n",
              "    let position = 0;\n",
              "    do {\n",
              "      const length = Math.min(fileData.byteLength - position, MAX_PAYLOAD_SIZE);\n",
              "      const chunk = new Uint8Array(fileData, position, length);\n",
              "      position += length;\n",
              "\n",
              "      const base64 = btoa(String.fromCharCode.apply(null, chunk));\n",
              "      yield {\n",
              "        response: {\n",
              "          action: 'append',\n",
              "          file: file.name,\n",
              "          data: base64,\n",
              "        },\n",
              "      };\n",
              "\n",
              "      let percentDone = fileData.byteLength === 0 ?\n",
              "          100 :\n",
              "          Math.round((position / fileData.byteLength) * 100);\n",
              "      percent.textContent = `${percentDone}% done`;\n",
              "\n",
              "    } while (position < fileData.byteLength);\n",
              "  }\n",
              "\n",
              "  // All done.\n",
              "  yield {\n",
              "    response: {\n",
              "      action: 'complete',\n",
              "    }\n",
              "  };\n",
              "}\n",
              "\n",
              "scope.google = scope.google || {};\n",
              "scope.google.colab = scope.google.colab || {};\n",
              "scope.google.colab._files = {\n",
              "  _uploadFiles,\n",
              "  _uploadFilesContinue,\n",
              "};\n",
              "})(self);\n",
              "</script> "
            ]
          },
          "metadata": {}
        },
        {
          "output_type": "stream",
          "name": "stdout",
          "text": [
            "Saving university_data-1.csv to university_data-1 (4).csv\n"
          ]
        }
      ]
    },
    {
      "cell_type": "code",
      "source": [
        "df = pd.read_csv(\"university_data-1 (4).csv\")"
      ],
      "metadata": {
        "id": "7suxLnHLFCh0",
        "collapsed": true
      },
      "execution_count": 44,
      "outputs": []
    },
    {
      "cell_type": "markdown",
      "source": [
        "**Understanding the Data**\n",
        "\n",
        "Once the data is loaded, you can perform various operations to understand its structure, content, and characteristics.\n",
        "\n",
        "**Data Overview:** Use `df.info()` to get a concise summary of the DataFrame, including the number of non-null entries, data types, and memory usage.\n"
      ],
      "metadata": {
        "id": "k6jMGnwrF0EI"
      }
    },
    {
      "cell_type": "code",
      "source": [
        "\n"
      ],
      "metadata": {
        "id": "fUFm_kPKFU14",
        "colab": {
          "base_uri": "https://localhost:8080/"
        },
        "collapsed": true,
        "outputId": "191e2737-9466-497f-ccc6-94db38add9d9"
      },
      "execution_count": 46,
      "outputs": [
        {
          "output_type": "stream",
          "name": "stdout",
          "text": [
            "<class 'pandas.core.frame.DataFrame'>\n",
            "RangeIndex: 1000 entries, 0 to 999\n",
            "Data columns (total 11 columns):\n",
            " #   Column       Non-Null Count  Dtype  \n",
            "---  ------       --------------  -----  \n",
            " 0   Private      1000 non-null   object \n",
            " 1   Outstate     1000 non-null   int64  \n",
            " 2   PhD          1000 non-null   int64  \n",
            " 3   Apps         1000 non-null   int64  \n",
            " 4   Accept       1000 non-null   int64  \n",
            " 5   Enroll       1000 non-null   float64\n",
            " 6   Top10perc    1000 non-null   int64  \n",
            " 7   Grad.Rate    1000 non-null   float64\n",
            " 8   Region       1000 non-null   object \n",
            " 9   Temperature  1000 non-null   int64  \n",
            " 10  Reputation   1000 non-null   object \n",
            "dtypes: float64(2), int64(6), object(3)\n",
            "memory usage: 86.1+ KB\n"
          ]
        }
      ]
    },
    {
      "cell_type": "markdown",
      "source": [
        "**Descriptive Statistics:**\n",
        "\n",
        "Use `df.describe()` to view summary statistics that help describe each numeric column's central tendency, dispersion, and shape of the dataset's distribution.\n"
      ],
      "metadata": {
        "id": "q5CN9IMHF9bu"
      }
    },
    {
      "cell_type": "code",
      "source": [
        "df.describe()"
      ],
      "metadata": {
        "id": "mKk5L05QF6d6",
        "colab": {
          "base_uri": "https://localhost:8080/",
          "height": 300
        },
        "outputId": "9c81f32d-e24f-4717-f849-212ccbfd1b6e"
      },
      "execution_count": 47,
      "outputs": [
        {
          "output_type": "execute_result",
          "data": {
            "text/plain": [
              "           Outstate          PhD         Apps       Accept       Enroll  \\\n",
              "count   1000.000000  1000.000000  1000.000000  1000.000000  1000.000000   \n",
              "mean   23772.946000    75.067000  2687.221000  2187.186000   774.628000   \n",
              "std     8072.784115    12.989351  1003.399146  1003.356255   412.085275   \n",
              "min    10007.000000    50.000000  1005.000000   486.000000   119.000000   \n",
              "25%    17834.500000    66.000000  1970.750000  1460.750000   464.250000   \n",
              "50%    23113.000000    75.000000  2514.500000  2023.000000   717.000000   \n",
              "75%    29882.500000    85.000000  3367.750000  2860.250000   993.500000   \n",
              "max    39994.000000    99.000000  4999.000000  4538.000000  2187.000000   \n",
              "\n",
              "         Top10perc    Grad.Rate  Temperature  \n",
              "count  1000.000000  1000.000000  1000.000000  \n",
              "mean     51.859000    87.294761    18.579000  \n",
              "std      17.785484     8.391001     8.561487  \n",
              "min      20.000000    62.591212     0.000000  \n",
              "25%      40.000000    81.216268    12.000000  \n",
              "50%      51.000000    87.320361    20.000000  \n",
              "75%      64.000000    93.284037    25.000000  \n",
              "max      89.000000   113.043843    34.000000  "
            ],
            "text/html": [
              "\n",
              "  <div id=\"df-7426db64-499b-4e79-ad67-88c1d824b32c\" class=\"colab-df-container\">\n",
              "    <div>\n",
              "<style scoped>\n",
              "    .dataframe tbody tr th:only-of-type {\n",
              "        vertical-align: middle;\n",
              "    }\n",
              "\n",
              "    .dataframe tbody tr th {\n",
              "        vertical-align: top;\n",
              "    }\n",
              "\n",
              "    .dataframe thead th {\n",
              "        text-align: right;\n",
              "    }\n",
              "</style>\n",
              "<table border=\"1\" class=\"dataframe\">\n",
              "  <thead>\n",
              "    <tr style=\"text-align: right;\">\n",
              "      <th></th>\n",
              "      <th>Outstate</th>\n",
              "      <th>PhD</th>\n",
              "      <th>Apps</th>\n",
              "      <th>Accept</th>\n",
              "      <th>Enroll</th>\n",
              "      <th>Top10perc</th>\n",
              "      <th>Grad.Rate</th>\n",
              "      <th>Temperature</th>\n",
              "    </tr>\n",
              "  </thead>\n",
              "  <tbody>\n",
              "    <tr>\n",
              "      <th>count</th>\n",
              "      <td>1000.000000</td>\n",
              "      <td>1000.000000</td>\n",
              "      <td>1000.000000</td>\n",
              "      <td>1000.000000</td>\n",
              "      <td>1000.000000</td>\n",
              "      <td>1000.000000</td>\n",
              "      <td>1000.000000</td>\n",
              "      <td>1000.000000</td>\n",
              "    </tr>\n",
              "    <tr>\n",
              "      <th>mean</th>\n",
              "      <td>23772.946000</td>\n",
              "      <td>75.067000</td>\n",
              "      <td>2687.221000</td>\n",
              "      <td>2187.186000</td>\n",
              "      <td>774.628000</td>\n",
              "      <td>51.859000</td>\n",
              "      <td>87.294761</td>\n",
              "      <td>18.579000</td>\n",
              "    </tr>\n",
              "    <tr>\n",
              "      <th>std</th>\n",
              "      <td>8072.784115</td>\n",
              "      <td>12.989351</td>\n",
              "      <td>1003.399146</td>\n",
              "      <td>1003.356255</td>\n",
              "      <td>412.085275</td>\n",
              "      <td>17.785484</td>\n",
              "      <td>8.391001</td>\n",
              "      <td>8.561487</td>\n",
              "    </tr>\n",
              "    <tr>\n",
              "      <th>min</th>\n",
              "      <td>10007.000000</td>\n",
              "      <td>50.000000</td>\n",
              "      <td>1005.000000</td>\n",
              "      <td>486.000000</td>\n",
              "      <td>119.000000</td>\n",
              "      <td>20.000000</td>\n",
              "      <td>62.591212</td>\n",
              "      <td>0.000000</td>\n",
              "    </tr>\n",
              "    <tr>\n",
              "      <th>25%</th>\n",
              "      <td>17834.500000</td>\n",
              "      <td>66.000000</td>\n",
              "      <td>1970.750000</td>\n",
              "      <td>1460.750000</td>\n",
              "      <td>464.250000</td>\n",
              "      <td>40.000000</td>\n",
              "      <td>81.216268</td>\n",
              "      <td>12.000000</td>\n",
              "    </tr>\n",
              "    <tr>\n",
              "      <th>50%</th>\n",
              "      <td>23113.000000</td>\n",
              "      <td>75.000000</td>\n",
              "      <td>2514.500000</td>\n",
              "      <td>2023.000000</td>\n",
              "      <td>717.000000</td>\n",
              "      <td>51.000000</td>\n",
              "      <td>87.320361</td>\n",
              "      <td>20.000000</td>\n",
              "    </tr>\n",
              "    <tr>\n",
              "      <th>75%</th>\n",
              "      <td>29882.500000</td>\n",
              "      <td>85.000000</td>\n",
              "      <td>3367.750000</td>\n",
              "      <td>2860.250000</td>\n",
              "      <td>993.500000</td>\n",
              "      <td>64.000000</td>\n",
              "      <td>93.284037</td>\n",
              "      <td>25.000000</td>\n",
              "    </tr>\n",
              "    <tr>\n",
              "      <th>max</th>\n",
              "      <td>39994.000000</td>\n",
              "      <td>99.000000</td>\n",
              "      <td>4999.000000</td>\n",
              "      <td>4538.000000</td>\n",
              "      <td>2187.000000</td>\n",
              "      <td>89.000000</td>\n",
              "      <td>113.043843</td>\n",
              "      <td>34.000000</td>\n",
              "    </tr>\n",
              "  </tbody>\n",
              "</table>\n",
              "</div>\n",
              "    <div class=\"colab-df-buttons\">\n",
              "\n",
              "  <div class=\"colab-df-container\">\n",
              "    <button class=\"colab-df-convert\" onclick=\"convertToInteractive('df-7426db64-499b-4e79-ad67-88c1d824b32c')\"\n",
              "            title=\"Convert this dataframe to an interactive table.\"\n",
              "            style=\"display:none;\">\n",
              "\n",
              "  <svg xmlns=\"http://www.w3.org/2000/svg\" height=\"24px\" viewBox=\"0 -960 960 960\">\n",
              "    <path d=\"M120-120v-720h720v720H120Zm60-500h600v-160H180v160Zm220 220h160v-160H400v160Zm0 220h160v-160H400v160ZM180-400h160v-160H180v160Zm440 0h160v-160H620v160ZM180-180h160v-160H180v160Zm440 0h160v-160H620v160Z\"/>\n",
              "  </svg>\n",
              "    </button>\n",
              "\n",
              "  <style>\n",
              "    .colab-df-container {\n",
              "      display:flex;\n",
              "      gap: 12px;\n",
              "    }\n",
              "\n",
              "    .colab-df-convert {\n",
              "      background-color: #E8F0FE;\n",
              "      border: none;\n",
              "      border-radius: 50%;\n",
              "      cursor: pointer;\n",
              "      display: none;\n",
              "      fill: #1967D2;\n",
              "      height: 32px;\n",
              "      padding: 0 0 0 0;\n",
              "      width: 32px;\n",
              "    }\n",
              "\n",
              "    .colab-df-convert:hover {\n",
              "      background-color: #E2EBFA;\n",
              "      box-shadow: 0px 1px 2px rgba(60, 64, 67, 0.3), 0px 1px 3px 1px rgba(60, 64, 67, 0.15);\n",
              "      fill: #174EA6;\n",
              "    }\n",
              "\n",
              "    .colab-df-buttons div {\n",
              "      margin-bottom: 4px;\n",
              "    }\n",
              "\n",
              "    [theme=dark] .colab-df-convert {\n",
              "      background-color: #3B4455;\n",
              "      fill: #D2E3FC;\n",
              "    }\n",
              "\n",
              "    [theme=dark] .colab-df-convert:hover {\n",
              "      background-color: #434B5C;\n",
              "      box-shadow: 0px 1px 3px 1px rgba(0, 0, 0, 0.15);\n",
              "      filter: drop-shadow(0px 1px 2px rgba(0, 0, 0, 0.3));\n",
              "      fill: #FFFFFF;\n",
              "    }\n",
              "  </style>\n",
              "\n",
              "    <script>\n",
              "      const buttonEl =\n",
              "        document.querySelector('#df-7426db64-499b-4e79-ad67-88c1d824b32c button.colab-df-convert');\n",
              "      buttonEl.style.display =\n",
              "        google.colab.kernel.accessAllowed ? 'block' : 'none';\n",
              "\n",
              "      async function convertToInteractive(key) {\n",
              "        const element = document.querySelector('#df-7426db64-499b-4e79-ad67-88c1d824b32c');\n",
              "        const dataTable =\n",
              "          await google.colab.kernel.invokeFunction('convertToInteractive',\n",
              "                                                    [key], {});\n",
              "        if (!dataTable) return;\n",
              "\n",
              "        const docLinkHtml = 'Like what you see? Visit the ' +\n",
              "          '<a target=\"_blank\" href=https://colab.research.google.com/notebooks/data_table.ipynb>data table notebook</a>'\n",
              "          + ' to learn more about interactive tables.';\n",
              "        element.innerHTML = '';\n",
              "        dataTable['output_type'] = 'display_data';\n",
              "        await google.colab.output.renderOutput(dataTable, element);\n",
              "        const docLink = document.createElement('div');\n",
              "        docLink.innerHTML = docLinkHtml;\n",
              "        element.appendChild(docLink);\n",
              "      }\n",
              "    </script>\n",
              "  </div>\n",
              "\n",
              "\n",
              "    <div id=\"df-602404d7-c824-4844-8149-0a7242273732\">\n",
              "      <button class=\"colab-df-quickchart\" onclick=\"quickchart('df-602404d7-c824-4844-8149-0a7242273732')\"\n",
              "                title=\"Suggest charts\"\n",
              "                style=\"display:none;\">\n",
              "\n",
              "<svg xmlns=\"http://www.w3.org/2000/svg\" height=\"24px\"viewBox=\"0 0 24 24\"\n",
              "     width=\"24px\">\n",
              "    <g>\n",
              "        <path d=\"M19 3H5c-1.1 0-2 .9-2 2v14c0 1.1.9 2 2 2h14c1.1 0 2-.9 2-2V5c0-1.1-.9-2-2-2zM9 17H7v-7h2v7zm4 0h-2V7h2v10zm4 0h-2v-4h2v4z\"/>\n",
              "    </g>\n",
              "</svg>\n",
              "      </button>\n",
              "\n",
              "<style>\n",
              "  .colab-df-quickchart {\n",
              "      --bg-color: #E8F0FE;\n",
              "      --fill-color: #1967D2;\n",
              "      --hover-bg-color: #E2EBFA;\n",
              "      --hover-fill-color: #174EA6;\n",
              "      --disabled-fill-color: #AAA;\n",
              "      --disabled-bg-color: #DDD;\n",
              "  }\n",
              "\n",
              "  [theme=dark] .colab-df-quickchart {\n",
              "      --bg-color: #3B4455;\n",
              "      --fill-color: #D2E3FC;\n",
              "      --hover-bg-color: #434B5C;\n",
              "      --hover-fill-color: #FFFFFF;\n",
              "      --disabled-bg-color: #3B4455;\n",
              "      --disabled-fill-color: #666;\n",
              "  }\n",
              "\n",
              "  .colab-df-quickchart {\n",
              "    background-color: var(--bg-color);\n",
              "    border: none;\n",
              "    border-radius: 50%;\n",
              "    cursor: pointer;\n",
              "    display: none;\n",
              "    fill: var(--fill-color);\n",
              "    height: 32px;\n",
              "    padding: 0;\n",
              "    width: 32px;\n",
              "  }\n",
              "\n",
              "  .colab-df-quickchart:hover {\n",
              "    background-color: var(--hover-bg-color);\n",
              "    box-shadow: 0 1px 2px rgba(60, 64, 67, 0.3), 0 1px 3px 1px rgba(60, 64, 67, 0.15);\n",
              "    fill: var(--button-hover-fill-color);\n",
              "  }\n",
              "\n",
              "  .colab-df-quickchart-complete:disabled,\n",
              "  .colab-df-quickchart-complete:disabled:hover {\n",
              "    background-color: var(--disabled-bg-color);\n",
              "    fill: var(--disabled-fill-color);\n",
              "    box-shadow: none;\n",
              "  }\n",
              "\n",
              "  .colab-df-spinner {\n",
              "    border: 2px solid var(--fill-color);\n",
              "    border-color: transparent;\n",
              "    border-bottom-color: var(--fill-color);\n",
              "    animation:\n",
              "      spin 1s steps(1) infinite;\n",
              "  }\n",
              "\n",
              "  @keyframes spin {\n",
              "    0% {\n",
              "      border-color: transparent;\n",
              "      border-bottom-color: var(--fill-color);\n",
              "      border-left-color: var(--fill-color);\n",
              "    }\n",
              "    20% {\n",
              "      border-color: transparent;\n",
              "      border-left-color: var(--fill-color);\n",
              "      border-top-color: var(--fill-color);\n",
              "    }\n",
              "    30% {\n",
              "      border-color: transparent;\n",
              "      border-left-color: var(--fill-color);\n",
              "      border-top-color: var(--fill-color);\n",
              "      border-right-color: var(--fill-color);\n",
              "    }\n",
              "    40% {\n",
              "      border-color: transparent;\n",
              "      border-right-color: var(--fill-color);\n",
              "      border-top-color: var(--fill-color);\n",
              "    }\n",
              "    60% {\n",
              "      border-color: transparent;\n",
              "      border-right-color: var(--fill-color);\n",
              "    }\n",
              "    80% {\n",
              "      border-color: transparent;\n",
              "      border-right-color: var(--fill-color);\n",
              "      border-bottom-color: var(--fill-color);\n",
              "    }\n",
              "    90% {\n",
              "      border-color: transparent;\n",
              "      border-bottom-color: var(--fill-color);\n",
              "    }\n",
              "  }\n",
              "</style>\n",
              "\n",
              "      <script>\n",
              "        async function quickchart(key) {\n",
              "          const quickchartButtonEl =\n",
              "            document.querySelector('#' + key + ' button');\n",
              "          quickchartButtonEl.disabled = true;  // To prevent multiple clicks.\n",
              "          quickchartButtonEl.classList.add('colab-df-spinner');\n",
              "          try {\n",
              "            const charts = await google.colab.kernel.invokeFunction(\n",
              "                'suggestCharts', [key], {});\n",
              "          } catch (error) {\n",
              "            console.error('Error during call to suggestCharts:', error);\n",
              "          }\n",
              "          quickchartButtonEl.classList.remove('colab-df-spinner');\n",
              "          quickchartButtonEl.classList.add('colab-df-quickchart-complete');\n",
              "        }\n",
              "        (() => {\n",
              "          let quickchartButtonEl =\n",
              "            document.querySelector('#df-602404d7-c824-4844-8149-0a7242273732 button');\n",
              "          quickchartButtonEl.style.display =\n",
              "            google.colab.kernel.accessAllowed ? 'block' : 'none';\n",
              "        })();\n",
              "      </script>\n",
              "    </div>\n",
              "\n",
              "    </div>\n",
              "  </div>\n"
            ],
            "application/vnd.google.colaboratory.intrinsic+json": {
              "type": "dataframe",
              "summary": "{\n  \"name\": \"df\",\n  \"rows\": 8,\n  \"fields\": [\n    {\n      \"column\": \"Outstate\",\n      \"properties\": {\n        \"dtype\": \"number\",\n        \"std\": 12672.578286743843,\n        \"min\": 1000.0,\n        \"max\": 39994.0,\n        \"num_unique_values\": 8,\n        \"samples\": [\n          23772.946,\n          23113.0,\n          1000.0\n        ],\n        \"semantic_type\": \"\",\n        \"description\": \"\"\n      }\n    },\n    {\n      \"column\": \"PhD\",\n      \"properties\": {\n        \"dtype\": \"number\",\n        \"std\": 331.17626770148564,\n        \"min\": 12.989350801107577,\n        \"max\": 1000.0,\n        \"num_unique_values\": 8,\n        \"samples\": [\n          75.067,\n          75.0,\n          1000.0\n        ],\n        \"semantic_type\": \"\",\n        \"description\": \"\"\n      }\n    },\n    {\n      \"column\": \"Apps\",\n      \"properties\": {\n        \"dtype\": \"number\",\n        \"std\": 1402.7789658512784,\n        \"min\": 1000.0,\n        \"max\": 4999.0,\n        \"num_unique_values\": 8,\n        \"samples\": [\n          2687.221,\n          2514.5,\n          1000.0\n        ],\n        \"semantic_type\": \"\",\n        \"description\": \"\"\n      }\n    },\n    {\n      \"column\": \"Accept\",\n      \"properties\": {\n        \"dtype\": \"number\",\n        \"std\": 1296.6421667291052,\n        \"min\": 486.0,\n        \"max\": 4538.0,\n        \"num_unique_values\": 8,\n        \"samples\": [\n          2187.186,\n          2023.0,\n          1000.0\n        ],\n        \"semantic_type\": \"\",\n        \"description\": \"\"\n      }\n    },\n    {\n      \"column\": \"Enroll\",\n      \"properties\": {\n        \"dtype\": \"number\",\n        \"std\": 624.1301157042657,\n        \"min\": 119.0,\n        \"max\": 2187.0,\n        \"num_unique_values\": 8,\n        \"samples\": [\n          774.628,\n          717.0,\n          1000.0\n        ],\n        \"semantic_type\": \"\",\n        \"description\": \"\"\n      }\n    },\n    {\n      \"column\": \"Top10perc\",\n      \"properties\": {\n        \"dtype\": \"number\",\n        \"std\": 337.490259774378,\n        \"min\": 17.785484037339074,\n        \"max\": 1000.0,\n        \"num_unique_values\": 8,\n        \"samples\": [\n          51.859,\n          51.0,\n          1000.0\n        ],\n        \"semantic_type\": \"\",\n        \"description\": \"\"\n      }\n    },\n    {\n      \"column\": \"Grad.Rate\",\n      \"properties\": {\n        \"dtype\": \"number\",\n        \"std\": 328.0885861853983,\n        \"min\": 8.391001247177797,\n        \"max\": 1000.0,\n        \"num_unique_values\": 8,\n        \"samples\": [\n          87.29476144238404,\n          87.32036100939106,\n          1000.0\n        ],\n        \"semantic_type\": \"\",\n        \"description\": \"\"\n      }\n    },\n    {\n      \"column\": \"Temperature\",\n      \"properties\": {\n        \"dtype\": \"number\",\n        \"std\": 347.74040188900585,\n        \"min\": 0.0,\n        \"max\": 1000.0,\n        \"num_unique_values\": 8,\n        \"samples\": [\n          18.579,\n          20.0,\n          1000.0\n        ],\n        \"semantic_type\": \"\",\n        \"description\": \"\"\n      }\n    }\n  ]\n}"
            }
          },
          "metadata": {},
          "execution_count": 47
        }
      ]
    },
    {
      "cell_type": "markdown",
      "source": [
        "**Check for Missing Values:**\n",
        "\n",
        "It's important to identify if the dataset contains any missing values.\n"
      ],
      "metadata": {
        "id": "E_jCOX_vGEFY"
      }
    },
    {
      "cell_type": "code",
      "source": [
        "df.isnull().any()\n"
      ],
      "metadata": {
        "id": "-I1NMsAlGATe",
        "colab": {
          "base_uri": "https://localhost:8080/",
          "height": 429
        },
        "outputId": "8f5c1ed5-6217-4aee-d865-44ff351c5eff"
      },
      "execution_count": 48,
      "outputs": [
        {
          "output_type": "execute_result",
          "data": {
            "text/plain": [
              "Private        False\n",
              "Outstate       False\n",
              "PhD            False\n",
              "Apps           False\n",
              "Accept         False\n",
              "Enroll         False\n",
              "Top10perc      False\n",
              "Grad.Rate      False\n",
              "Region         False\n",
              "Temperature    False\n",
              "Reputation     False\n",
              "dtype: bool"
            ],
            "text/html": [
              "<div>\n",
              "<style scoped>\n",
              "    .dataframe tbody tr th:only-of-type {\n",
              "        vertical-align: middle;\n",
              "    }\n",
              "\n",
              "    .dataframe tbody tr th {\n",
              "        vertical-align: top;\n",
              "    }\n",
              "\n",
              "    .dataframe thead th {\n",
              "        text-align: right;\n",
              "    }\n",
              "</style>\n",
              "<table border=\"1\" class=\"dataframe\">\n",
              "  <thead>\n",
              "    <tr style=\"text-align: right;\">\n",
              "      <th></th>\n",
              "      <th>0</th>\n",
              "    </tr>\n",
              "  </thead>\n",
              "  <tbody>\n",
              "    <tr>\n",
              "      <th>Private</th>\n",
              "      <td>False</td>\n",
              "    </tr>\n",
              "    <tr>\n",
              "      <th>Outstate</th>\n",
              "      <td>False</td>\n",
              "    </tr>\n",
              "    <tr>\n",
              "      <th>PhD</th>\n",
              "      <td>False</td>\n",
              "    </tr>\n",
              "    <tr>\n",
              "      <th>Apps</th>\n",
              "      <td>False</td>\n",
              "    </tr>\n",
              "    <tr>\n",
              "      <th>Accept</th>\n",
              "      <td>False</td>\n",
              "    </tr>\n",
              "    <tr>\n",
              "      <th>Enroll</th>\n",
              "      <td>False</td>\n",
              "    </tr>\n",
              "    <tr>\n",
              "      <th>Top10perc</th>\n",
              "      <td>False</td>\n",
              "    </tr>\n",
              "    <tr>\n",
              "      <th>Grad.Rate</th>\n",
              "      <td>False</td>\n",
              "    </tr>\n",
              "    <tr>\n",
              "      <th>Region</th>\n",
              "      <td>False</td>\n",
              "    </tr>\n",
              "    <tr>\n",
              "      <th>Temperature</th>\n",
              "      <td>False</td>\n",
              "    </tr>\n",
              "    <tr>\n",
              "      <th>Reputation</th>\n",
              "      <td>False</td>\n",
              "    </tr>\n",
              "  </tbody>\n",
              "</table>\n",
              "</div><br><label><b>dtype:</b> bool</label>"
            ]
          },
          "metadata": {},
          "execution_count": 48
        }
      ]
    },
    {
      "cell_type": "markdown",
      "source": [
        "**Unique Values in Categorical Columns:**\n",
        "\n",
        "For columns like 'Private', 'Region', and 'Reputation', checking unique values can be insightful.\n"
      ],
      "metadata": {
        "id": "QcJVCx4jGOib"
      }
    },
    {
      "cell_type": "code",
      "source": [
        "\n",
        "print(df['Private'].unique())\n",
        "print(df['Region'].unique())\n",
        "print(df['Reputation'].unique())\n"
      ],
      "metadata": {
        "id": "Hx47sWKVGJIy",
        "colab": {
          "base_uri": "https://localhost:8080/"
        },
        "outputId": "f060b31a-1ad6-4ac4-9e90-48109ea74dde"
      },
      "execution_count": 49,
      "outputs": [
        {
          "output_type": "stream",
          "name": "stdout",
          "text": [
            "['Yes' 'No']\n",
            "['West' 'North' 'East' 'South']\n",
            "['Good' 'Moderate' 'Poor']\n"
          ]
        }
      ]
    },
    {
      "cell_type": "markdown",
      "source": [
        "Using the 'Private' column in the dataset, perform the following tasks:\n",
        "\n",
        "\n",
        "- Count how many universities are private versus public.\n",
        "\n"
      ],
      "metadata": {
        "id": "TjE3PHZTG6CI"
      }
    },
    {
      "cell_type": "code",
      "source": [
        "\n",
        "private_counts = df['Private'].value_counts()\n",
        "print(private_counts)\n"
      ],
      "metadata": {
        "id": "OqBJF3OOGRtm",
        "colab": {
          "base_uri": "https://localhost:8080/"
        },
        "outputId": "53dc450c-14c3-4286-ea43-933487c56684"
      },
      "execution_count": 50,
      "outputs": [
        {
          "output_type": "stream",
          "name": "stdout",
          "text": [
            "Private\n",
            "Yes    503\n",
            "No     497\n",
            "Name: count, dtype: int64\n"
          ]
        }
      ]
    },
    {
      "cell_type": "code",
      "source": [],
      "metadata": {
        "id": "MRx3Yb4NjqIz"
      },
      "execution_count": null,
      "outputs": []
    },
    {
      "cell_type": "code",
      "source": [],
      "metadata": {
        "id": "Ta6kS1Vmj8Vf"
      },
      "execution_count": null,
      "outputs": []
    },
    {
      "cell_type": "code",
      "source": [
        "\n",
        "\n"
      ],
      "metadata": {
        "id": "S6nw3w0tj_XG",
        "colab": {
          "base_uri": "https://localhost:8080/"
        },
        "outputId": "dcee8c57-81ec-46d8-a0ef-1131397ded3f"
      },
      "execution_count": 52,
      "outputs": [
        {
          "output_type": "stream",
          "name": "stdout",
          "text": [
            "[NbConvertApp] WARNING | pattern '/content/_victoria_lugo.ipynb' matched no files\n",
            "This application is used to convert notebook files (*.ipynb)\n",
            "        to various other formats.\n",
            "\n",
            "        WARNING: THE COMMANDLINE INTERFACE MAY CHANGE IN FUTURE RELEASES.\n",
            "\n",
            "Options\n",
            "=======\n",
            "The options below are convenience aliases to configurable class-options,\n",
            "as listed in the \"Equivalent to\" description-line of the aliases.\n",
            "To see all configurable class-options for some <cmd>, use:\n",
            "    <cmd> --help-all\n",
            "\n",
            "--debug\n",
            "    set log level to logging.DEBUG (maximize logging output)\n",
            "    Equivalent to: [--Application.log_level=10]\n",
            "--show-config\n",
            "    Show the application's configuration (human-readable format)\n",
            "    Equivalent to: [--Application.show_config=True]\n",
            "--show-config-json\n",
            "    Show the application's configuration (json format)\n",
            "    Equivalent to: [--Application.show_config_json=True]\n",
            "--generate-config\n",
            "    generate default config file\n",
            "    Equivalent to: [--JupyterApp.generate_config=True]\n",
            "-y\n",
            "    Answer yes to any questions instead of prompting.\n",
            "    Equivalent to: [--JupyterApp.answer_yes=True]\n",
            "--execute\n",
            "    Execute the notebook prior to export.\n",
            "    Equivalent to: [--ExecutePreprocessor.enabled=True]\n",
            "--allow-errors\n",
            "    Continue notebook execution even if one of the cells throws an error and include the error message in the cell output (the default behaviour is to abort conversion). This flag is only relevant if '--execute' was specified, too.\n",
            "    Equivalent to: [--ExecutePreprocessor.allow_errors=True]\n",
            "--stdin\n",
            "    read a single notebook file from stdin. Write the resulting notebook with default basename 'notebook.*'\n",
            "    Equivalent to: [--NbConvertApp.from_stdin=True]\n",
            "--stdout\n",
            "    Write notebook output to stdout instead of files.\n",
            "    Equivalent to: [--NbConvertApp.writer_class=StdoutWriter]\n",
            "--inplace\n",
            "    Run nbconvert in place, overwriting the existing notebook (only\n",
            "            relevant when converting to notebook format)\n",
            "    Equivalent to: [--NbConvertApp.use_output_suffix=False --NbConvertApp.export_format=notebook --FilesWriter.build_directory=]\n",
            "--clear-output\n",
            "    Clear output of current file and save in place,\n",
            "            overwriting the existing notebook.\n",
            "    Equivalent to: [--NbConvertApp.use_output_suffix=False --NbConvertApp.export_format=notebook --FilesWriter.build_directory= --ClearOutputPreprocessor.enabled=True]\n",
            "--coalesce-streams\n",
            "    Coalesce consecutive stdout and stderr outputs into one stream (within each cell).\n",
            "    Equivalent to: [--NbConvertApp.use_output_suffix=False --NbConvertApp.export_format=notebook --FilesWriter.build_directory= --CoalesceStreamsPreprocessor.enabled=True]\n",
            "--no-prompt\n",
            "    Exclude input and output prompts from converted document.\n",
            "    Equivalent to: [--TemplateExporter.exclude_input_prompt=True --TemplateExporter.exclude_output_prompt=True]\n",
            "--no-input\n",
            "    Exclude input cells and output prompts from converted document.\n",
            "            This mode is ideal for generating code-free reports.\n",
            "    Equivalent to: [--TemplateExporter.exclude_output_prompt=True --TemplateExporter.exclude_input=True --TemplateExporter.exclude_input_prompt=True]\n",
            "--allow-chromium-download\n",
            "    Whether to allow downloading chromium if no suitable version is found on the system.\n",
            "    Equivalent to: [--WebPDFExporter.allow_chromium_download=True]\n",
            "--disable-chromium-sandbox\n",
            "    Disable chromium security sandbox when converting to PDF..\n",
            "    Equivalent to: [--WebPDFExporter.disable_sandbox=True]\n",
            "--show-input\n",
            "    Shows code input. This flag is only useful for dejavu users.\n",
            "    Equivalent to: [--TemplateExporter.exclude_input=False]\n",
            "--embed-images\n",
            "    Embed the images as base64 dataurls in the output. This flag is only useful for the HTML/WebPDF/Slides exports.\n",
            "    Equivalent to: [--HTMLExporter.embed_images=True]\n",
            "--sanitize-html\n",
            "    Whether the HTML in Markdown cells and cell outputs should be sanitized..\n",
            "    Equivalent to: [--HTMLExporter.sanitize_html=True]\n",
            "--log-level=<Enum>\n",
            "    Set the log level by value or name.\n",
            "    Choices: any of [0, 10, 20, 30, 40, 50, 'DEBUG', 'INFO', 'WARN', 'ERROR', 'CRITICAL']\n",
            "    Default: 30\n",
            "    Equivalent to: [--Application.log_level]\n",
            "--config=<Unicode>\n",
            "    Full path of a config file.\n",
            "    Default: ''\n",
            "    Equivalent to: [--JupyterApp.config_file]\n",
            "--to=<Unicode>\n",
            "    The export format to be used, either one of the built-in formats\n",
            "            ['asciidoc', 'custom', 'html', 'latex', 'markdown', 'notebook', 'pdf', 'python', 'qtpdf', 'qtpng', 'rst', 'script', 'slides', 'webpdf']\n",
            "            or a dotted object name that represents the import path for an\n",
            "            ``Exporter`` class\n",
            "    Default: ''\n",
            "    Equivalent to: [--NbConvertApp.export_format]\n",
            "--template=<Unicode>\n",
            "    Name of the template to use\n",
            "    Default: ''\n",
            "    Equivalent to: [--TemplateExporter.template_name]\n",
            "--template-file=<Unicode>\n",
            "    Name of the template file to use\n",
            "    Default: None\n",
            "    Equivalent to: [--TemplateExporter.template_file]\n",
            "--theme=<Unicode>\n",
            "    Template specific theme(e.g. the name of a JupyterLab CSS theme distributed\n",
            "    as prebuilt extension for the lab template)\n",
            "    Default: 'light'\n",
            "    Equivalent to: [--HTMLExporter.theme]\n",
            "--sanitize_html=<Bool>\n",
            "    Whether the HTML in Markdown cells and cell outputs should be sanitized.This\n",
            "    should be set to True by nbviewer or similar tools.\n",
            "    Default: False\n",
            "    Equivalent to: [--HTMLExporter.sanitize_html]\n",
            "--writer=<DottedObjectName>\n",
            "    Writer class used to write the\n",
            "                                        results of the conversion\n",
            "    Default: 'FilesWriter'\n",
            "    Equivalent to: [--NbConvertApp.writer_class]\n",
            "--post=<DottedOrNone>\n",
            "    PostProcessor class used to write the\n",
            "                                        results of the conversion\n",
            "    Default: ''\n",
            "    Equivalent to: [--NbConvertApp.postprocessor_class]\n",
            "--output=<Unicode>\n",
            "    Overwrite base name use for output files.\n",
            "                Supports pattern replacements '{notebook_name}'.\n",
            "    Default: '{notebook_name}'\n",
            "    Equivalent to: [--NbConvertApp.output_base]\n",
            "--output-dir=<Unicode>\n",
            "    Directory to write output(s) to. Defaults\n",
            "                                  to output to the directory of each notebook. To recover\n",
            "                                  previous default behaviour (outputting to the current\n",
            "                                  working directory) use . as the flag value.\n",
            "    Default: ''\n",
            "    Equivalent to: [--FilesWriter.build_directory]\n",
            "--reveal-prefix=<Unicode>\n",
            "    The URL prefix for reveal.js (version 3.x).\n",
            "            This defaults to the reveal CDN, but can be any url pointing to a copy\n",
            "            of reveal.js.\n",
            "            For speaker notes to work, this must be a relative path to a local\n",
            "            copy of reveal.js: e.g., \"reveal.js\".\n",
            "            If a relative path is given, it must be a subdirectory of the\n",
            "            current directory (from which the server is run).\n",
            "            See the usage documentation\n",
            "            (https://nbconvert.readthedocs.io/en/latest/usage.html#reveal-js-html-slideshow)\n",
            "            for more details.\n",
            "    Default: ''\n",
            "    Equivalent to: [--SlidesExporter.reveal_url_prefix]\n",
            "--nbformat=<Enum>\n",
            "    The nbformat version to write.\n",
            "            Use this to downgrade notebooks.\n",
            "    Choices: any of [1, 2, 3, 4]\n",
            "    Default: 4\n",
            "    Equivalent to: [--NotebookExporter.nbformat_version]\n",
            "\n",
            "Examples\n",
            "--------\n",
            "\n",
            "    The simplest way to use nbconvert is\n",
            "\n",
            "            > jupyter nbconvert mynotebook.ipynb --to html\n",
            "\n",
            "            Options include ['asciidoc', 'custom', 'html', 'latex', 'markdown', 'notebook', 'pdf', 'python', 'qtpdf', 'qtpng', 'rst', 'script', 'slides', 'webpdf'].\n",
            "\n",
            "            > jupyter nbconvert --to latex mynotebook.ipynb\n",
            "\n",
            "            Both HTML and LaTeX support multiple output templates. LaTeX includes\n",
            "            'base', 'article' and 'report'.  HTML includes 'basic', 'lab' and\n",
            "            'classic'. You can specify the flavor of the format used.\n",
            "\n",
            "            > jupyter nbconvert --to html --template lab mynotebook.ipynb\n",
            "\n",
            "            You can also pipe the output to stdout, rather than a file\n",
            "\n",
            "            > jupyter nbconvert mynotebook.ipynb --stdout\n",
            "\n",
            "            PDF is generated via latex\n",
            "\n",
            "            > jupyter nbconvert mynotebook.ipynb --to pdf\n",
            "\n",
            "            You can get (and serve) a Reveal.js-powered slideshow\n",
            "\n",
            "            > jupyter nbconvert myslides.ipynb --to slides --post serve\n",
            "\n",
            "            Multiple notebooks can be given at the command line in a couple of\n",
            "            different ways:\n",
            "\n",
            "            > jupyter nbconvert notebook*.ipynb\n",
            "            > jupyter nbconvert notebook1.ipynb notebook2.ipynb\n",
            "\n",
            "            or you can specify the notebooks list in a config file, containing::\n",
            "\n",
            "                c.NbConvertApp.notebooks = [\"my_notebook.ipynb\"]\n",
            "\n",
            "            > jupyter nbconvert --config mycfg.py\n",
            "\n",
            "To see all available configurables, use `--help-all`.\n",
            "\n"
          ]
        }
      ]
    },
    {
      "cell_type": "code",
      "metadata": {
        "colab": {
          "base_uri": "https://localhost:8080/"
        },
        "id": "529fbdb0",
        "outputId": "d584625e-be7e-4aff-c518-f32c61b73e88"
      },
      "source": [
        "!jupyter nbconvert --to html /content/victoria_lugo.ipynb"
      ],
      "execution_count": 55,
      "outputs": [
        {
          "output_type": "stream",
          "name": "stdout",
          "text": [
            "[NbConvertApp] WARNING | pattern '/content/victoria_lugo.ipynb' matched no files\n",
            "This application is used to convert notebook files (*.ipynb)\n",
            "        to various other formats.\n",
            "\n",
            "        WARNING: THE COMMANDLINE INTERFACE MAY CHANGE IN FUTURE RELEASES.\n",
            "\n",
            "Options\n",
            "=======\n",
            "The options below are convenience aliases to configurable class-options,\n",
            "as listed in the \"Equivalent to\" description-line of the aliases.\n",
            "To see all configurable class-options for some <cmd>, use:\n",
            "    <cmd> --help-all\n",
            "\n",
            "--debug\n",
            "    set log level to logging.DEBUG (maximize logging output)\n",
            "    Equivalent to: [--Application.log_level=10]\n",
            "--show-config\n",
            "    Show the application's configuration (human-readable format)\n",
            "    Equivalent to: [--Application.show_config=True]\n",
            "--show-config-json\n",
            "    Show the application's configuration (json format)\n",
            "    Equivalent to: [--Application.show_config_json=True]\n",
            "--generate-config\n",
            "    generate default config file\n",
            "    Equivalent to: [--JupyterApp.generate_config=True]\n",
            "-y\n",
            "    Answer yes to any questions instead of prompting.\n",
            "    Equivalent to: [--JupyterApp.answer_yes=True]\n",
            "--execute\n",
            "    Execute the notebook prior to export.\n",
            "    Equivalent to: [--ExecutePreprocessor.enabled=True]\n",
            "--allow-errors\n",
            "    Continue notebook execution even if one of the cells throws an error and include the error message in the cell output (the default behaviour is to abort conversion). This flag is only relevant if '--execute' was specified, too.\n",
            "    Equivalent to: [--ExecutePreprocessor.allow_errors=True]\n",
            "--stdin\n",
            "    read a single notebook file from stdin. Write the resulting notebook with default basename 'notebook.*'\n",
            "    Equivalent to: [--NbConvertApp.from_stdin=True]\n",
            "--stdout\n",
            "    Write notebook output to stdout instead of files.\n",
            "    Equivalent to: [--NbConvertApp.writer_class=StdoutWriter]\n",
            "--inplace\n",
            "    Run nbconvert in place, overwriting the existing notebook (only\n",
            "            relevant when converting to notebook format)\n",
            "    Equivalent to: [--NbConvertApp.use_output_suffix=False --NbConvertApp.export_format=notebook --FilesWriter.build_directory=]\n",
            "--clear-output\n",
            "    Clear output of current file and save in place,\n",
            "            overwriting the existing notebook.\n",
            "    Equivalent to: [--NbConvertApp.use_output_suffix=False --NbConvertApp.export_format=notebook --FilesWriter.build_directory= --ClearOutputPreprocessor.enabled=True]\n",
            "--coalesce-streams\n",
            "    Coalesce consecutive stdout and stderr outputs into one stream (within each cell).\n",
            "    Equivalent to: [--NbConvertApp.use_output_suffix=False --NbConvertApp.export_format=notebook --FilesWriter.build_directory= --CoalesceStreamsPreprocessor.enabled=True]\n",
            "--no-prompt\n",
            "    Exclude input and output prompts from converted document.\n",
            "    Equivalent to: [--TemplateExporter.exclude_input_prompt=True --TemplateExporter.exclude_output_prompt=True]\n",
            "--no-input\n",
            "    Exclude input cells and output prompts from converted document.\n",
            "            This mode is ideal for generating code-free reports.\n",
            "    Equivalent to: [--TemplateExporter.exclude_output_prompt=True --TemplateExporter.exclude_input=True --TemplateExporter.exclude_input_prompt=True]\n",
            "--allow-chromium-download\n",
            "    Whether to allow downloading chromium if no suitable version is found on the system.\n",
            "    Equivalent to: [--WebPDFExporter.allow_chromium_download=True]\n",
            "--disable-chromium-sandbox\n",
            "    Disable chromium security sandbox when converting to PDF..\n",
            "    Equivalent to: [--WebPDFExporter.disable_sandbox=True]\n",
            "--show-input\n",
            "    Shows code input. This flag is only useful for dejavu users.\n",
            "    Equivalent to: [--TemplateExporter.exclude_input=False]\n",
            "--embed-images\n",
            "    Embed the images as base64 dataurls in the output. This flag is only useful for the HTML/WebPDF/Slides exports.\n",
            "    Equivalent to: [--HTMLExporter.embed_images=True]\n",
            "--sanitize-html\n",
            "    Whether the HTML in Markdown cells and cell outputs should be sanitized..\n",
            "    Equivalent to: [--HTMLExporter.sanitize_html=True]\n",
            "--log-level=<Enum>\n",
            "    Set the log level by value or name.\n",
            "    Choices: any of [0, 10, 20, 30, 40, 50, 'DEBUG', 'INFO', 'WARN', 'ERROR', 'CRITICAL']\n",
            "    Default: 30\n",
            "    Equivalent to: [--Application.log_level]\n",
            "--config=<Unicode>\n",
            "    Full path of a config file.\n",
            "    Default: ''\n",
            "    Equivalent to: [--JupyterApp.config_file]\n",
            "--to=<Unicode>\n",
            "    The export format to be used, either one of the built-in formats\n",
            "            ['asciidoc', 'custom', 'html', 'latex', 'markdown', 'notebook', 'pdf', 'python', 'qtpdf', 'qtpng', 'rst', 'script', 'slides', 'webpdf']\n",
            "            or a dotted object name that represents the import path for an\n",
            "            ``Exporter`` class\n",
            "    Default: ''\n",
            "    Equivalent to: [--NbConvertApp.export_format]\n",
            "--template=<Unicode>\n",
            "    Name of the template to use\n",
            "    Default: ''\n",
            "    Equivalent to: [--TemplateExporter.template_name]\n",
            "--template-file=<Unicode>\n",
            "    Name of the template file to use\n",
            "    Default: None\n",
            "    Equivalent to: [--TemplateExporter.template_file]\n",
            "--theme=<Unicode>\n",
            "    Template specific theme(e.g. the name of a JupyterLab CSS theme distributed\n",
            "    as prebuilt extension for the lab template)\n",
            "    Default: 'light'\n",
            "    Equivalent to: [--HTMLExporter.theme]\n",
            "--sanitize_html=<Bool>\n",
            "    Whether the HTML in Markdown cells and cell outputs should be sanitized.This\n",
            "    should be set to True by nbviewer or similar tools.\n",
            "    Default: False\n",
            "    Equivalent to: [--HTMLExporter.sanitize_html]\n",
            "--writer=<DottedObjectName>\n",
            "    Writer class used to write the\n",
            "                                        results of the conversion\n",
            "    Default: 'FilesWriter'\n",
            "    Equivalent to: [--NbConvertApp.writer_class]\n",
            "--post=<DottedOrNone>\n",
            "    PostProcessor class used to write the\n",
            "                                        results of the conversion\n",
            "    Default: ''\n",
            "    Equivalent to: [--NbConvertApp.postprocessor_class]\n",
            "--output=<Unicode>\n",
            "    Overwrite base name use for output files.\n",
            "                Supports pattern replacements '{notebook_name}'.\n",
            "    Default: '{notebook_name}'\n",
            "    Equivalent to: [--NbConvertApp.output_base]\n",
            "--output-dir=<Unicode>\n",
            "    Directory to write output(s) to. Defaults\n",
            "                                  to output to the directory of each notebook. To recover\n",
            "                                  previous default behaviour (outputting to the current\n",
            "                                  working directory) use . as the flag value.\n",
            "    Default: ''\n",
            "    Equivalent to: [--FilesWriter.build_directory]\n",
            "--reveal-prefix=<Unicode>\n",
            "    The URL prefix for reveal.js (version 3.x).\n",
            "            This defaults to the reveal CDN, but can be any url pointing to a copy\n",
            "            of reveal.js.\n",
            "            For speaker notes to work, this must be a relative path to a local\n",
            "            copy of reveal.js: e.g., \"reveal.js\".\n",
            "            If a relative path is given, it must be a subdirectory of the\n",
            "            current directory (from which the server is run).\n",
            "            See the usage documentation\n",
            "            (https://nbconvert.readthedocs.io/en/latest/usage.html#reveal-js-html-slideshow)\n",
            "            for more details.\n",
            "    Default: ''\n",
            "    Equivalent to: [--SlidesExporter.reveal_url_prefix]\n",
            "--nbformat=<Enum>\n",
            "    The nbformat version to write.\n",
            "            Use this to downgrade notebooks.\n",
            "    Choices: any of [1, 2, 3, 4]\n",
            "    Default: 4\n",
            "    Equivalent to: [--NotebookExporter.nbformat_version]\n",
            "\n",
            "Examples\n",
            "--------\n",
            "\n",
            "    The simplest way to use nbconvert is\n",
            "\n",
            "            > jupyter nbconvert mynotebook.ipynb --to html\n",
            "\n",
            "            Options include ['asciidoc', 'custom', 'html', 'latex', 'markdown', 'notebook', 'pdf', 'python', 'qtpdf', 'qtpng', 'rst', 'script', 'slides', 'webpdf'].\n",
            "\n",
            "            > jupyter nbconvert --to latex mynotebook.ipynb\n",
            "\n",
            "            Both HTML and LaTeX support multiple output templates. LaTeX includes\n",
            "            'base', 'article' and 'report'.  HTML includes 'basic', 'lab' and\n",
            "            'classic'. You can specify the flavor of the format used.\n",
            "\n",
            "            > jupyter nbconvert --to html --template lab mynotebook.ipynb\n",
            "\n",
            "            You can also pipe the output to stdout, rather than a file\n",
            "\n",
            "            > jupyter nbconvert mynotebook.ipynb --stdout\n",
            "\n",
            "            PDF is generated via latex\n",
            "\n",
            "            > jupyter nbconvert mynotebook.ipynb --to pdf\n",
            "\n",
            "            You can get (and serve) a Reveal.js-powered slideshow\n",
            "\n",
            "            > jupyter nbconvert myslides.ipynb --to slides --post serve\n",
            "\n",
            "            Multiple notebooks can be given at the command line in a couple of\n",
            "            different ways:\n",
            "\n",
            "            > jupyter nbconvert notebook*.ipynb\n",
            "            > jupyter nbconvert notebook1.ipynb notebook2.ipynb\n",
            "\n",
            "            or you can specify the notebooks list in a config file, containing::\n",
            "\n",
            "                c.NbConvertApp.notebooks = [\"my_notebook.ipynb\"]\n",
            "\n",
            "            > jupyter nbconvert --config mycfg.py\n",
            "\n",
            "To see all available configurables, use `--help-all`.\n",
            "\n"
          ]
        }
      ]
    },
    {
      "cell_type": "code",
      "source": [
        "from google.colab import drive\n",
        "drive.mount('/content/drive')"
      ],
      "metadata": {
        "id": "s3X5YM_L0rHg"
      },
      "execution_count": null,
      "outputs": []
    }
  ]
}